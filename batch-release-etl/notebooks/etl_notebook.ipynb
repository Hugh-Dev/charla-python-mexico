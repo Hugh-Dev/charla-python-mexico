{
 "cells": [
  {
   "cell_type": "code",
   "execution_count": 7,
   "metadata": {},
   "outputs": [
    {
     "name": "stdout",
     "output_type": "stream",
     "text": [
      "0    Good air quality\n",
      "Name: category, dtype: object\n"
     ]
    }
   ],
   "source": [
    "import requests\n",
    "import json\n",
    "import pandas as pd\n",
    "import os\n",
    "import sys\n",
    "\n",
    "sys.path.append(os.path.abspath('/Users/psf/Projects/pylab/charla-python-mexico/batch-release-etl'))\n",
    "from config.settings import AIR_QUALITY_API\n",
    "\n",
    "url = AIR_QUALITY_API\n",
    "\n",
    "payload = {\n",
    "    \"location\": {\n",
    "        \"latitude\": 29.986176,\n",
    "        \"longitude\": -114.016919\n",
    "    }\n",
    "}\n",
    "\n",
    "payload_json = json.dumps(payload)\n",
    "response = requests.post(url, data=payload_json, headers={'Content-Type': 'application/json'})\n",
    "\n",
    "if response.status_code == 200:\n",
    "    data = response.json()\n",
    "    indexes_data = data.pop('indexes')[0]\n",
    "    color_data = indexes_data.pop('color')\n",
    "    flat_data = {**data, **indexes_data, **{'color_' + k: v for k, v in color_data.items()}}\n",
    "    df = pd.DataFrame([flat_data])\n",
    "    print(df['category'])\n",
    "else:\n",
    "    print(\"Error:\", response.status_code)"
   ]
  }
 ],
 "metadata": {
  "kernelspec": {
   "display_name": ".venv",
   "language": "python",
   "name": "python3"
  },
  "language_info": {
   "codemirror_mode": {
    "name": "ipython",
    "version": 3
   },
   "file_extension": ".py",
   "mimetype": "text/x-python",
   "name": "python",
   "nbconvert_exporter": "python",
   "pygments_lexer": "ipython3",
   "version": "3.12.4"
  }
 },
 "nbformat": 4,
 "nbformat_minor": 2
}
