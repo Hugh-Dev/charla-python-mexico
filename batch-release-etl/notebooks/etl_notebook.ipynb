{
 "cells": [
  {
   "cell_type": "code",
   "execution_count": 1,
   "metadata": {},
   "outputs": [
    {
     "name": "stdout",
     "output_type": "stream",
     "text": [
      "    latitude   longitude       air quality\n",
      "0  40.712776  -74.005974  Good air quality\n",
      "1  34.052235 -118.243685  Good air quality\n"
     ]
    }
   ],
   "source": [
    "import requests\n",
    "import json\n",
    "import pandas as pd\n",
    "import os\n",
    "import sys\n",
    "\n",
    "sys.path.append(os.path.abspath('/Users/psf/Projects/pylab/charla-python-mexico/batch-release-etl'))\n",
    "from config.settings import AIR_QUALITY_API\n",
    "\n",
    "\n",
    "class AirQualityAPI:\n",
    "    def __init__(self, data):\n",
    "        self.data = data\n",
    "        self.url = AIR_QUALITY_API\n",
    "\n",
    "    def get_air_quality(self, latitude, longitude):\n",
    "        payload = {\n",
    "            \"location\": {\n",
    "                \"latitude\": latitude,\n",
    "                \"longitude\": longitude\n",
    "            }\n",
    "        }\n",
    "        payload_json = json.dumps(payload)\n",
    "        response = requests.post(self.url, data=payload_json, headers={'Content-Type': 'application/json'})\n",
    "\n",
    "        if response.status_code == 200:\n",
    "            data = response.json()\n",
    "            indexes_data = data.pop('indexes')[0]\n",
    "            return indexes_data.get('category', None)\n",
    "        else:\n",
    "            print(\"Error:\", response.status_code)\n",
    "            return None\n",
    "\n",
    "    def update_data_with_categories(self):\n",
    "        categories = []\n",
    "        for _, row in self.data.iterrows():\n",
    "            category = self.get_air_quality(row['latitude'], row['longitude'])\n",
    "            categories.append(category)\n",
    "        \n",
    "        self.data['air quality'] = categories\n",
    "        return self.data\n",
    "    \n",
    "\n",
    "if __name__ == '__main__':\n",
    "    df = pd.DataFrame({\n",
    "    'latitude': [40.712776, 34.052235],\n",
    "    'longitude': [-74.005974, -118.243685]\n",
    "    })\n",
    "\n",
    "    api = AirQualityAPI(df)\n",
    "    df_updated = api.update_data_with_categories()\n",
    "    print(df_updated)"
   ]
  }
 ],
 "metadata": {
  "kernelspec": {
   "display_name": ".venv",
   "language": "python",
   "name": "python3"
  },
  "language_info": {
   "codemirror_mode": {
    "name": "ipython",
    "version": 3
   },
   "file_extension": ".py",
   "mimetype": "text/x-python",
   "name": "python",
   "nbconvert_exporter": "python",
   "pygments_lexer": "ipython3",
   "version": "3.12.4"
  }
 },
 "nbformat": 4,
 "nbformat_minor": 2
}
